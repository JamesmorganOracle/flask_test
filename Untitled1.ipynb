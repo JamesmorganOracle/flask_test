{
 "cells": [
  {
   "cell_type": "code",
   "execution_count": null,
   "id": "d9501e96",
   "metadata": {},
   "outputs": [],
   "source": [
    "import pandas as pd\n",
    "from math import radians, cos, sin, asin, sqrt\n",
    "import requests\n",
    "import numpy as np"
   ]
  },
  {
   "cell_type": "code",
   "execution_count": null,
   "id": "82c2cf18",
   "metadata": {},
   "outputs": [],
   "source": [
    "airports = pd.read_csv(r'C:\\Users\\James Morgan\\OneDrive - Oracle Solicitors\\Desktop\\Flightbot JM/airports.csv')\n",
    "airports = airports[airports['scheduled_service']==\"yes\"]\n",
    "departure = \"FMM\"\n",
    "arrival = \"LHR\""
   ]
  },
  {
   "cell_type": "code",
   "execution_count": null,
   "id": "03477f10",
   "metadata": {},
   "outputs": [],
   "source": [
    "def greatcirclecalc(depart, arrive):\n",
    "    deplat = airports[airports['iata_code']==depart].iloc[:,4]\n",
    "    deplong = airports[airports['iata_code']==depart].iloc[:,5]\n",
    "    arrlat = airports[airports['iata_code']==arrive].iloc[:,4]\n",
    "    arrlong = airports[airports['iata_code']==arrive].iloc[:,5]\n",
    "\n",
    "    # convert decimal degrees to radians \n",
    "    lon1, lat1, lon2, lat2 = map(radians, [deplong, deplat, arrlong, arrlat])\n",
    "    # haversine formula \n",
    "    dlon = lon2 - lon1 \n",
    "    dlat = lat2 - lat1 \n",
    "    a = sin(dlat/2)**2 + cos(lat1) * cos(lat2) * sin(dlon/2)**2\n",
    "    c = 2 * asin(sqrt(a)) \n",
    "    km = 6371 * c\n",
    "    \n",
    "    if km < 1500:\n",
    "        eu261 = 250\n",
    "    elif km < 3500:\n",
    "        eu261 = 400\n",
    "    else:\n",
    "        eu261 = 600\n",
    "    \n",
    "    return km, eu261"
   ]
  },
  {
   "cell_type": "code",
   "execution_count": null,
   "id": "c78a7586",
   "metadata": {},
   "outputs": [
    {
     "data": {
      "text/plain": [
       "859.9860881243538"
      ]
     },
     "execution_count": 4,
     "metadata": {},
     "output_type": "execute_result"
    }
   ],
   "source": [
    "deplat = airports[airports['iata_code']==departure].iloc[:,4]\n",
    "deplong = airports[airports['iata_code']==departure].iloc[:,5]\n",
    "arrlat = airports[airports['iata_code']==arrival].iloc[:,4]\n",
    "arrlong = airports[airports['iata_code']==arrival].iloc[:,5]\n",
    "\n",
    "# convert decimal degrees to radians \n",
    "lon1, lat1, lon2, lat2 = map(radians, [deplong, deplat, arrlong, arrlat])\n",
    "# haversine formula \n",
    "dlon = lon2 - lon1 \n",
    "dlat = lat2 - lat1 \n",
    "a = sin(dlat/2)**2 + cos(lat1) * cos(lat2) * sin(dlon/2)**2\n",
    "c = 2 * asin(sqrt(a)) \n",
    "km = 6371 * c\n",
    "\n",
    "km"
   ]
  },
  {
   "cell_type": "code",
   "execution_count": null,
   "id": "e560a4b8",
   "metadata": {},
   "outputs": [
    {
     "data": {
      "text/html": [
       "<div>\n",
       "<style scoped>\n",
       "    .dataframe tbody tr th:only-of-type {\n",
       "        vertical-align: middle;\n",
       "    }\n",
       "\n",
       "    .dataframe tbody tr th {\n",
       "        vertical-align: top;\n",
       "    }\n",
       "\n",
       "    .dataframe thead th {\n",
       "        text-align: right;\n",
       "    }\n",
       "</style>\n",
       "<table border=\"1\" class=\"dataframe\">\n",
       "  <thead>\n",
       "    <tr style=\"text-align: right;\">\n",
       "      <th></th>\n",
       "      <th>Iata_code</th>\n",
       "      <th>Distance</th>\n",
       "      <th>Drive_time</th>\n",
       "      <th>Drive_distance</th>\n",
       "    </tr>\n",
       "  </thead>\n",
       "  <tbody>\n",
       "    <tr>\n",
       "      <th>0</th>\n",
       "      <td>LGW</td>\n",
       "      <td>40.528005</td>\n",
       "      <td>3096</td>\n",
       "      <td>75.681</td>\n",
       "    </tr>\n",
       "    <tr>\n",
       "      <th>1</th>\n",
       "      <td>LTN</td>\n",
       "      <td>45.394992</td>\n",
       "      <td>2883</td>\n",
       "      <td>64.546</td>\n",
       "    </tr>\n",
       "    <tr>\n",
       "      <th>2</th>\n",
       "      <td>LCY</td>\n",
       "      <td>36.018781</td>\n",
       "      <td>4005</td>\n",
       "      <td>58.861</td>\n",
       "    </tr>\n",
       "    <tr>\n",
       "      <th>3</th>\n",
       "      <td>STN</td>\n",
       "      <td>66.576260</td>\n",
       "      <td>4114</td>\n",
       "      <td>105.638</td>\n",
       "    </tr>\n",
       "  </tbody>\n",
       "</table>\n",
       "</div>"
      ],
      "text/plain": [
       "  Iata_code   Distance Drive_time  Drive_distance\n",
       "0       LGW  40.528005       3096          75.681\n",
       "1       LTN  45.394992       2883          64.546\n",
       "2       LCY  36.018781       4005          58.861\n",
       "3       STN  66.576260       4114         105.638"
      ]
     },
     "execution_count": 14,
     "metadata": {},
     "output_type": "execute_result"
    }
   ],
   "source": [
    "#get the closest 5 airports to departure (euclidean but hopefully accurate enough)\n",
    "array = np.array(airports.iloc[:, 4:6])\n",
    "coords = np.array([(airports[airports['iata_code']==departure].iloc[:,4], airports[airports['iata_code']==departure].iloc[:,5])])[0]\n",
    "coords.shape = (1, 2)\n",
    "distances = np.linalg.norm(array-coords, axis=1)\n",
    "idx = np.argpartition(distances.ravel(), 6)\n",
    "nearest_5 = np.array(np.unravel_index(idx, distances.shape))[:, range(6)].transpose().tolist()\n",
    "\n",
    "nearest_5_dep_df = pd.DataFrame(columns = [\"Iata_code\", \"Distance\", \"Drive_time\"])\n",
    "\n",
    "for i in nearest_5[1:5]:\n",
    "    row = []\n",
    "    row.append(airports.iloc[i, 13].values[0])\n",
    "    \n",
    "    dist, eu261 = greatcirclecalc(departure,airports.iloc[i, 13].values[0])\n",
    "    \n",
    "    row.append(dist)\n",
    "    \n",
    "    deplat = airports[airports['iata_code']==departure].iloc[:,4]\n",
    "    deplong = airports[airports['iata_code']==departure].iloc[:,5]\n",
    "    arrlat = airports[airports['iata_code']==arrival].iloc[:,4]\n",
    "    arrlong = airports[airports['iata_code']==arrival].iloc[:,5]\n",
    "    altdeplat = airports.iloc[i, 4]\n",
    "    altdeplong = airports.iloc[i, 5]\n",
    "    travel_mode = \"Driving\"\n",
    "    query_url = r\"http://dev.virtualearth.net/REST/v1/Routes/\" + travel_mode + \"?o=json&wp.0=\" + str(deplat.values[0]) + \",\" + str(deplong.values[0]) +\"&wp.1=\" + str(altdeplat.values[0]) + \",\" + str(altdeplong.values[0]) + \"&key=AghfZWXQ0nEiSbp6zjT2N3OUppVxXwv1dmUb3gfcvimiYhAqzhNvqXVAIyy_7Rk7\"\n",
    "    response = requests.get(query_url)\n",
    "    response.close()\n",
    "    df = pd.DataFrame(response.json()['resourceSets'])\n",
    "    df = pd.DataFrame(df['resources'][0])['travelDuration'][0]\n",
    "    row.append(df)\n",
    "    nearest_5_dep_df.loc[len(nearest_5_dep_df)] = row\n",
    "\n",
    "\n",
    "\n",
    "#get the closest 5 airports to arrival (euclidean but hopefully accurate enough)\n",
    "array = np.array(airports.iloc[:, 4:6])\n",
    "coords = np.array([(airports[airports['iata_code']==arrival].iloc[:,4], airports[airports['iata_code']==arrival].iloc[:,5])])[0]\n",
    "coords.shape = (1, 2)\n",
    "distances = np.linalg.norm(array-coords, axis=1)\n",
    "idx = np.argpartition(distances.ravel(), 6)\n",
    "nearest_5 = np.array(np.unravel_index(idx, distances.shape))[:, range(6)].transpose().tolist()\n",
    "\n",
    "nearest_5_arr_df = pd.DataFrame(columns = [\"Iata_code\", \"Distance\", \"Drive_time\", \"Drive_distance\"])\n",
    "\n",
    "for i in nearest_5[1:5]:\n",
    "    row = []\n",
    "    row.append(airports.iloc[i, 13].values[0])\n",
    "    \n",
    "    dist, eu261 = greatcirclecalc(arrival,airports.iloc[i, 13].values[0])\n",
    "    \n",
    "    row.append(dist)\n",
    "    \n",
    "    deplat = airports[airports['iata_code']==departure].iloc[:,4]\n",
    "    deplong = airports[airports['iata_code']==departure].iloc[:,5]\n",
    "    arrlat = airports[airports['iata_code']==arrival].iloc[:,4]\n",
    "    arrlong = airports[airports['iata_code']==arrival].iloc[:,5]\n",
    "    altarrlat = airports.iloc[i, 4]\n",
    "    altarrlong = airports.iloc[i, 5]\n",
    "    travel_mode = \"Driving\"\n",
    "    query_url = r\"http://dev.virtualearth.net/REST/v1/Routes/\" + travel_mode + \"?o=json&wp.0=\" + str(arrlat.values[0]) + \",\" + str(arrlong.values[0]) +\"&wp.1=\" + str(altarrlat.values[0]) + \",\" + str(altarrlong.values[0]) + \"&key=AghfZWXQ0nEiSbp6zjT2N3OUppVxXwv1dmUb3gfcvimiYhAqzhNvqXVAIyy_7Rk7\"\n",
    "    response = requests.get(query_url)\n",
    "    response.close()\n",
    "    df = pd.DataFrame(response.json()['resourceSets'])\n",
    "    df1 = pd.DataFrame(df['resources'][0])['travelDuration'][0]\n",
    "    row.append(df1)\n",
    "    df2 = pd.DataFrame(df['resources'][0])['travelDistance'][0]\n",
    "    row.append(df2)\n",
    "    nearest_5_arr_df.loc[len(nearest_5_arr_df)] = row\n",
    "    \n",
    "    \n",
    "nearest_5_arr_df"
   ]
  },
  {
   "cell_type": "code",
   "execution_count": null,
   "id": "561ffbd8",
   "metadata": {},
   "outputs": [],
   "source": [
    "query_url = r\"http://dev.virtualearth.net/REST/v1/Routes/\" + travel_mode + \"?o=json&wp.0=\" + str(arrlat.values[0]) + \",\" + str(arrlong.values[0]) +\"&wp.1=\" + str(altarrlat.values[0]) + \",\" + str(altarrlong.values[0]) + \"&key=AghfZWXQ0nEiSbp6zjT2N3OUppVxXwv1dmUb3gfcvimiYhAqzhNvqXVAIyy_7Rk7\"\n",
    "response = requests.get(query_url)\n",
    "response.close()\n",
    "df = pd.DataFrame(response.json()['resourceSets'])\n",
    "df = pd.DataFrame(df['resources'][0])['travelDistance'][0]"
   ]
  },
  {
   "cell_type": "code",
   "execution_count": null,
   "id": "49b711c3",
   "metadata": {},
   "outputs": [
    {
     "data": {
      "text/plain": [
       "105.638"
      ]
     },
     "execution_count": 11,
     "metadata": {},
     "output_type": "execute_result"
    }
   ],
   "source": [
    "df"
   ]
  },
  {
   "cell_type": "code",
   "execution_count": null,
   "id": "7718c220",
   "metadata": {},
   "outputs": [],
   "source": [
    "travel_mode = \"Driving\"\n",
    "query_url = r\"http://dev.virtualearth.net/REST/v1/Routes/\" + travel_mode + \"?o=json&wp.0=\" + str(deplat.values[0]) + \",\" + str(deplong.values[0]) +\"&wp.1=\" + str(altdeplat.values[0]) + \",\" + str(altdeplong.values[0]) + \"&key=AghfZWXQ0nEiSbp6zjT2N3OUppVxXwv1dmUb3gfcvimiYhAqzhNvqXVAIyy_7Rk7\""
   ]
  },
  {
   "cell_type": "code",
   "execution_count": null,
   "id": "a3191e8d",
   "metadata": {},
   "outputs": [],
   "source": [
    "travel_mode = \"Transit\"\n",
    "query_url = r\"http://dev.virtualearth.net/REST/V1/Routes/\" + travel_mode + \"?wp.0=\" + str(deplat.values[0]) + \",\" + str(deplong.values[0]) +\"&wp.1=\" + str(altdeplat.values[0]) + \",\" + str(altdeplong.values[0]) + \"&timeType=Departure&dateTime=3:00:00PM&output=json\" + \"&key=AghfZWXQ0nEiSbp6zjT2N3OUppVxXwv1dmUb3gfcvimiYhAqzhNvqXVAIyy_7Rk7\"\n"
   ]
  },
  {
   "cell_type": "code",
   "execution_count": null,
   "id": "b160cf65",
   "metadata": {},
   "outputs": [],
   "source": [
    "travel_mode = \"Transit\"\n",
    "query_url = r\"http://dev.virtualearth.net/REST/V1/Routes/\" + travel_mode + \"?wp.0=\" + \"TW6 1JH\" +\"&wp.1=\" + \"CM24 8UJ\" + \"&timeType=Departure&dateTime=3:00:00PM&output=json\" + \"&key=AghfZWXQ0nEiSbp6zjT2N3OUppVxXwv1dmUb3gfcvimiYhAqzhNvqXVAIyy_7Rk7\"\n"
   ]
  },
  {
   "cell_type": "code",
   "execution_count": null,
   "id": "e5d4205f",
   "metadata": {},
   "outputs": [],
   "source": [
    "query_url = r\"http://dev.virtualearth.net/REST/v1/Locations/\" + str(altdeplat.values[0]) + \",\" + str(altdeplong.values[0]) + \"?key=AghfZWXQ0nEiSbp6zjT2N3OUppVxXwv1dmUb3gfcvimiYhAqzhNvqXVAIyy_7Rk7\""
   ]
  },
  {
   "cell_type": "code",
   "execution_count": null,
   "id": "3142369e",
   "metadata": {},
   "outputs": [],
   "source": [
    "response = requests.get(query_url)"
   ]
  },
  {
   "cell_type": "code",
   "execution_count": null,
   "id": "c2734254",
   "metadata": {},
   "outputs": [],
   "source": [
    "response.close()\n",
    "\n",
    "#dep\n",
    "#TW6 1JH\n",
    "#'Terminal 3 Pier 5 Camberley Road, London Heathrow Airport, TW6 1JH'\n",
    "#altdep\n",
    "#CM24 8UJ\n",
    "#CM24 8UJ, GB"
   ]
  },
  {
   "cell_type": "code",
   "execution_count": null,
   "id": "e8ce0be0",
   "metadata": {},
   "outputs": [
    {
     "ename": "KeyError",
     "evalue": "'resources'",
     "output_type": "error",
     "traceback": [
      "\u001b[1;31m---------------------------------------------------------------------------\u001b[0m",
      "\u001b[1;31mKeyError\u001b[0m                                  Traceback (most recent call last)",
      "\u001b[1;32m~\\anaconda3\\lib\\site-packages\\pandas\\core\\indexes\\base.py\u001b[0m in \u001b[0;36mget_loc\u001b[1;34m(self, key, method, tolerance)\u001b[0m\n\u001b[0;32m   3079\u001b[0m             \u001b[1;32mtry\u001b[0m\u001b[1;33m:\u001b[0m\u001b[1;33m\u001b[0m\u001b[1;33m\u001b[0m\u001b[0m\n\u001b[1;32m-> 3080\u001b[1;33m                 \u001b[1;32mreturn\u001b[0m \u001b[0mself\u001b[0m\u001b[1;33m.\u001b[0m\u001b[0m_engine\u001b[0m\u001b[1;33m.\u001b[0m\u001b[0mget_loc\u001b[0m\u001b[1;33m(\u001b[0m\u001b[0mcasted_key\u001b[0m\u001b[1;33m)\u001b[0m\u001b[1;33m\u001b[0m\u001b[1;33m\u001b[0m\u001b[0m\n\u001b[0m\u001b[0;32m   3081\u001b[0m             \u001b[1;32mexcept\u001b[0m \u001b[0mKeyError\u001b[0m \u001b[1;32mas\u001b[0m \u001b[0merr\u001b[0m\u001b[1;33m:\u001b[0m\u001b[1;33m\u001b[0m\u001b[1;33m\u001b[0m\u001b[0m\n",
      "\u001b[1;32mpandas\\_libs\\index.pyx\u001b[0m in \u001b[0;36mpandas._libs.index.IndexEngine.get_loc\u001b[1;34m()\u001b[0m\n",
      "\u001b[1;32mpandas\\_libs\\index.pyx\u001b[0m in \u001b[0;36mpandas._libs.index.IndexEngine.get_loc\u001b[1;34m()\u001b[0m\n",
      "\u001b[1;32mpandas\\_libs\\hashtable_class_helper.pxi\u001b[0m in \u001b[0;36mpandas._libs.hashtable.PyObjectHashTable.get_item\u001b[1;34m()\u001b[0m\n",
      "\u001b[1;32mpandas\\_libs\\hashtable_class_helper.pxi\u001b[0m in \u001b[0;36mpandas._libs.hashtable.PyObjectHashTable.get_item\u001b[1;34m()\u001b[0m\n",
      "\u001b[1;31mKeyError\u001b[0m: 'resources'",
      "\nThe above exception was the direct cause of the following exception:\n",
      "\u001b[1;31mKeyError\u001b[0m                                  Traceback (most recent call last)",
      "\u001b[1;32m<ipython-input-189-3e1eb9f8dfe4>\u001b[0m in \u001b[0;36m<module>\u001b[1;34m\u001b[0m\n\u001b[0;32m      1\u001b[0m \u001b[0mdf\u001b[0m \u001b[1;33m=\u001b[0m \u001b[0mpd\u001b[0m\u001b[1;33m.\u001b[0m\u001b[0mDataFrame\u001b[0m\u001b[1;33m(\u001b[0m\u001b[0mresponse\u001b[0m\u001b[1;33m.\u001b[0m\u001b[0mjson\u001b[0m\u001b[1;33m(\u001b[0m\u001b[1;33m)\u001b[0m\u001b[1;33m[\u001b[0m\u001b[1;34m'resourceSets'\u001b[0m\u001b[1;33m]\u001b[0m\u001b[1;33m)\u001b[0m\u001b[1;33m\u001b[0m\u001b[1;33m\u001b[0m\u001b[0m\n\u001b[1;32m----> 2\u001b[1;33m \u001b[0mdf\u001b[0m \u001b[1;33m=\u001b[0m \u001b[0mpd\u001b[0m\u001b[1;33m.\u001b[0m\u001b[0mDataFrame\u001b[0m\u001b[1;33m(\u001b[0m\u001b[0mdf\u001b[0m\u001b[1;33m[\u001b[0m\u001b[1;34m'resources'\u001b[0m\u001b[1;33m]\u001b[0m\u001b[1;33m[\u001b[0m\u001b[1;36m0\u001b[0m\u001b[1;33m]\u001b[0m\u001b[1;33m)\u001b[0m\u001b[1;33m[\u001b[0m\u001b[1;34m'travelDuration'\u001b[0m\u001b[1;33m]\u001b[0m\u001b[1;33m[\u001b[0m\u001b[1;36m0\u001b[0m\u001b[1;33m]\u001b[0m\u001b[1;33m\u001b[0m\u001b[1;33m\u001b[0m\u001b[0m\n\u001b[0m",
      "\u001b[1;32m~\\anaconda3\\lib\\site-packages\\pandas\\core\\frame.py\u001b[0m in \u001b[0;36m__getitem__\u001b[1;34m(self, key)\u001b[0m\n\u001b[0;32m   3022\u001b[0m             \u001b[1;32mif\u001b[0m \u001b[0mself\u001b[0m\u001b[1;33m.\u001b[0m\u001b[0mcolumns\u001b[0m\u001b[1;33m.\u001b[0m\u001b[0mnlevels\u001b[0m \u001b[1;33m>\u001b[0m \u001b[1;36m1\u001b[0m\u001b[1;33m:\u001b[0m\u001b[1;33m\u001b[0m\u001b[1;33m\u001b[0m\u001b[0m\n\u001b[0;32m   3023\u001b[0m                 \u001b[1;32mreturn\u001b[0m \u001b[0mself\u001b[0m\u001b[1;33m.\u001b[0m\u001b[0m_getitem_multilevel\u001b[0m\u001b[1;33m(\u001b[0m\u001b[0mkey\u001b[0m\u001b[1;33m)\u001b[0m\u001b[1;33m\u001b[0m\u001b[1;33m\u001b[0m\u001b[0m\n\u001b[1;32m-> 3024\u001b[1;33m             \u001b[0mindexer\u001b[0m \u001b[1;33m=\u001b[0m \u001b[0mself\u001b[0m\u001b[1;33m.\u001b[0m\u001b[0mcolumns\u001b[0m\u001b[1;33m.\u001b[0m\u001b[0mget_loc\u001b[0m\u001b[1;33m(\u001b[0m\u001b[0mkey\u001b[0m\u001b[1;33m)\u001b[0m\u001b[1;33m\u001b[0m\u001b[1;33m\u001b[0m\u001b[0m\n\u001b[0m\u001b[0;32m   3025\u001b[0m             \u001b[1;32mif\u001b[0m \u001b[0mis_integer\u001b[0m\u001b[1;33m(\u001b[0m\u001b[0mindexer\u001b[0m\u001b[1;33m)\u001b[0m\u001b[1;33m:\u001b[0m\u001b[1;33m\u001b[0m\u001b[1;33m\u001b[0m\u001b[0m\n\u001b[0;32m   3026\u001b[0m                 \u001b[0mindexer\u001b[0m \u001b[1;33m=\u001b[0m \u001b[1;33m[\u001b[0m\u001b[0mindexer\u001b[0m\u001b[1;33m]\u001b[0m\u001b[1;33m\u001b[0m\u001b[1;33m\u001b[0m\u001b[0m\n",
      "\u001b[1;32m~\\anaconda3\\lib\\site-packages\\pandas\\core\\indexes\\base.py\u001b[0m in \u001b[0;36mget_loc\u001b[1;34m(self, key, method, tolerance)\u001b[0m\n\u001b[0;32m   3080\u001b[0m                 \u001b[1;32mreturn\u001b[0m \u001b[0mself\u001b[0m\u001b[1;33m.\u001b[0m\u001b[0m_engine\u001b[0m\u001b[1;33m.\u001b[0m\u001b[0mget_loc\u001b[0m\u001b[1;33m(\u001b[0m\u001b[0mcasted_key\u001b[0m\u001b[1;33m)\u001b[0m\u001b[1;33m\u001b[0m\u001b[1;33m\u001b[0m\u001b[0m\n\u001b[0;32m   3081\u001b[0m             \u001b[1;32mexcept\u001b[0m \u001b[0mKeyError\u001b[0m \u001b[1;32mas\u001b[0m \u001b[0merr\u001b[0m\u001b[1;33m:\u001b[0m\u001b[1;33m\u001b[0m\u001b[1;33m\u001b[0m\u001b[0m\n\u001b[1;32m-> 3082\u001b[1;33m                 \u001b[1;32mraise\u001b[0m \u001b[0mKeyError\u001b[0m\u001b[1;33m(\u001b[0m\u001b[0mkey\u001b[0m\u001b[1;33m)\u001b[0m \u001b[1;32mfrom\u001b[0m \u001b[0merr\u001b[0m\u001b[1;33m\u001b[0m\u001b[1;33m\u001b[0m\u001b[0m\n\u001b[0m\u001b[0;32m   3083\u001b[0m \u001b[1;33m\u001b[0m\u001b[0m\n\u001b[0;32m   3084\u001b[0m         \u001b[1;32mif\u001b[0m \u001b[0mtolerance\u001b[0m \u001b[1;32mis\u001b[0m \u001b[1;32mnot\u001b[0m \u001b[1;32mNone\u001b[0m\u001b[1;33m:\u001b[0m\u001b[1;33m\u001b[0m\u001b[1;33m\u001b[0m\u001b[0m\n",
      "\u001b[1;31mKeyError\u001b[0m: 'resources'"
     ]
    }
   ],
   "source": [
    "df = pd.DataFrame(response.json()['resourceSets'])\n",
    "df = pd.DataFrame(df['resources'][0])['travelDuration'][0]"
   ]
  },
  {
   "cell_type": "code",
   "execution_count": null,
   "id": "59adea57",
   "metadata": {},
   "outputs": [
    {
     "data": {
      "text/plain": [
       "{'authenticationResultCode': 'ValidCredentials',\n",
       " 'brandLogoUri': 'http://dev.virtualearth.net/Branding/logo_powered_by.png',\n",
       " 'copyright': 'Copyright © 2022 Microsoft and its suppliers. All rights reserved. This API cannot be accessed and the content and any results may not be used, reproduced or transmitted in any manner without express written permission from Microsoft Corporation.',\n",
       " 'errorDetails': ['We were unable to find any routes.'],\n",
       " 'resourceSets': [],\n",
       " 'statusCode': 404,\n",
       " 'statusDescription': 'Not Found',\n",
       " 'traceId': '61da11f2704849bb9e9cc9fc706b0073|DU0000276F|0.0.0.0|DU00001FA3, Leg0-DU00001F60|Ref A: 83ADC23486D140E687E5AA940658B302 Ref B: DB3EDGE2110 Ref C: 2022-04-24T19:45:24Z|Ref A: 2E7259E383FD4411A829F37E33604F23 Ref B: DB3EDGE1710 Ref C: 2022-04-24T19:45:24Z'}"
      ]
     },
     "execution_count": 190,
     "metadata": {},
     "output_type": "execute_result"
    }
   ],
   "source": [
    "response.json()"
   ]
  },
  {
   "cell_type": "code",
   "execution_count": null,
   "id": "1328b53e",
   "metadata": {},
   "outputs": [
    {
     "ename": "",
     "evalue": "",
     "output_type": "error",
     "traceback": [
      "\u001b[1;31mRunning cells with 'Python 3.9.5 64-bit' requires ipykernel package.\n",
      "Run the following command to install 'ipykernel' into the Python environment. \n",
      "Command: '\"c:/Users/James Morgan/AppData/Local/Programs/Python/Python39/python.exe\" -m pip install ipykernel -U --user --force-reinstall'"
     ]
    }
   ],
   "source": [
    "import pandas as pd\n",
    "import numpy as np\n",
    "from sqlalchemy import func, create_engine"
   ]
  },
  {
   "cell_type": "code",
   "execution_count": null,
   "id": "217a0def",
   "metadata": {},
   "outputs": [],
   "source": [
    "engine = create_engine('sqlite:///test.db').connect()\n",
    "\n",
    "flight_df = pd.read_sql_table('flight', engine)\n",
    "da_df = pd.read_sql_table('directalternative', engine)\n",
    "ia_df = pd.read_sql_table('indirectalternative', engine)"
   ]
  }
 ],
 "metadata": {
  "interpreter": {
   "hash": "55b34b287d6fec0ef41d42d088ea060ed376afa0eedb7fe3dcfe7ae1f4162514"
  },
  "kernelspec": {
   "display_name": "Python 3.9.5 ('env': venv)",
   "language": "python",
   "name": "python3"
  },
  "language_info": {
   "codemirror_mode": {
    "name": "ipython",
    "version": 3
   },
   "file_extension": ".py",
   "mimetype": "text/x-python",
   "name": "python",
   "nbconvert_exporter": "python",
   "pygments_lexer": "ipython3",
   "version": "3.9.5"
  }
 },
 "nbformat": 4,
 "nbformat_minor": 5
}
